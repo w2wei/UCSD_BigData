{
 "metadata": {
  "name": "",
  "signature": "sha256:ddc66c7697a8bc822af4584f6fd7c350db87878717bfdbd89b5adf05eeba53e3"
 },
 "nbformat": 3,
 "nbformat_minor": 0,
 "worksheets": [
  {
   "cells": [
    {
     "cell_type": "code",
     "collapsed": false,
     "input": [
      "%cd /home/ubuntu/Vault\n",
      "!ls"
     ],
     "language": "python",
     "metadata": {},
     "outputs": [
      {
       "output_type": "stream",
       "stream": "stdout",
       "text": [
        "/home/ubuntu/Vault\n",
        "AWSCredentials.py   AWSCredentials.pyc\r\n",
        "AWSCredentials.py~  PMD1156_IHC_0068_part_2_4.tiff\r\n"
       ]
      }
     ],
     "prompt_number": 37
    },
    {
     "cell_type": "code",
     "collapsed": false,
     "input": [
      "from boto.s3.connection import S3Connection\n",
      "from boto.s3.key import Key\n",
      "from AWSCredentials import *"
     ],
     "language": "python",
     "metadata": {},
     "outputs": [],
     "prompt_number": 38
    },
    {
     "cell_type": "code",
     "collapsed": false,
     "input": [
      "conn=S3Connection(aws_access_key_id, aws_secret_access_key)\n",
      "conn"
     ],
     "language": "python",
     "metadata": {},
     "outputs": [
      {
       "metadata": {},
       "output_type": "pyout",
       "prompt_number": 39,
       "text": [
        "S3Connection:s3.amazonaws.com"
       ]
      }
     ],
     "prompt_number": 39
    },
    {
     "cell_type": "code",
     "collapsed": false,
     "input": [
      "bucket=conn.create_bucket('ioperformance.bucket')"
     ],
     "language": "python",
     "metadata": {},
     "outputs": [],
     "prompt_number": 43
    },
    {
     "cell_type": "code",
     "collapsed": false,
     "input": [
      "from boto.s3.connection import Location\n",
      "bucket_in_europe=conn.create_bucket('ioperformance.europe.bucket',location=Location.EU)"
     ],
     "language": "python",
     "metadata": {},
     "outputs": [
      {
       "ename": "S3CreateError",
       "evalue": "S3CreateError: 409 Conflict\n<?xml version=\"1.0\" encoding=\"UTF-8\"?>\n<Error><Code>BucketAlreadyOwnedByYou</Code><Message>Your previous request to create the named bucket succeeded and you already own it.</Message><BucketName>ioperformance.europe.bucket</BucketName><RequestId>29413A4D2D5E84E7</RequestId><HostId>NanMwhzACKkBPSpMNYWkxt5s8tXxl0txOBxSD+JmVRo/PlpYH7qwjPzDHfsstFZg1w3BNqo81ks=</HostId></Error>",
       "output_type": "pyerr",
       "traceback": [
        "\u001b[1;31m---------------------------------------------------------------------------\u001b[0m\n\u001b[1;31mS3CreateError\u001b[0m                             Traceback (most recent call last)",
        "\u001b[1;32m<ipython-input-42-0c7a90f2dc9f>\u001b[0m in \u001b[0;36m<module>\u001b[1;34m()\u001b[0m\n\u001b[0;32m      1\u001b[0m \u001b[1;32mfrom\u001b[0m \u001b[0mboto\u001b[0m\u001b[1;33m.\u001b[0m\u001b[0ms3\u001b[0m\u001b[1;33m.\u001b[0m\u001b[0mconnection\u001b[0m \u001b[1;32mimport\u001b[0m \u001b[0mLocation\u001b[0m\u001b[1;33m\u001b[0m\u001b[0m\n\u001b[1;32m----> 2\u001b[1;33m \u001b[0mbucket_in_europe\u001b[0m\u001b[1;33m=\u001b[0m\u001b[0mconn\u001b[0m\u001b[1;33m.\u001b[0m\u001b[0mcreate_bucket\u001b[0m\u001b[1;33m(\u001b[0m\u001b[1;34m'ioperformance.europe.bucket'\u001b[0m\u001b[1;33m,\u001b[0m\u001b[0mlocation\u001b[0m\u001b[1;33m=\u001b[0m\u001b[0mLocation\u001b[0m\u001b[1;33m.\u001b[0m\u001b[0mEU\u001b[0m\u001b[1;33m)\u001b[0m\u001b[1;33m\u001b[0m\u001b[0m\n\u001b[0m",
        "\u001b[1;32m/home/ubuntu/anaconda/lib/python2.7/site-packages/boto/s3/connection.pyc\u001b[0m in \u001b[0;36mcreate_bucket\u001b[1;34m(self, bucket_name, headers, location, policy)\u001b[0m\n\u001b[0;32m    583\u001b[0m         \u001b[1;32mif\u001b[0m \u001b[0mresponse\u001b[0m\u001b[1;33m.\u001b[0m\u001b[0mstatus\u001b[0m \u001b[1;33m==\u001b[0m \u001b[1;36m409\u001b[0m\u001b[1;33m:\u001b[0m\u001b[1;33m\u001b[0m\u001b[0m\n\u001b[0;32m    584\u001b[0m             raise self.provider.storage_create_error(\n\u001b[1;32m--> 585\u001b[1;33m                 response.status, response.reason, body)\n\u001b[0m\u001b[0;32m    586\u001b[0m         \u001b[1;32mif\u001b[0m \u001b[0mresponse\u001b[0m\u001b[1;33m.\u001b[0m\u001b[0mstatus\u001b[0m \u001b[1;33m==\u001b[0m \u001b[1;36m200\u001b[0m\u001b[1;33m:\u001b[0m\u001b[1;33m\u001b[0m\u001b[0m\n\u001b[0;32m    587\u001b[0m             \u001b[1;32mreturn\u001b[0m \u001b[0mself\u001b[0m\u001b[1;33m.\u001b[0m\u001b[0mbucket_class\u001b[0m\u001b[1;33m(\u001b[0m\u001b[0mself\u001b[0m\u001b[1;33m,\u001b[0m \u001b[0mbucket_name\u001b[0m\u001b[1;33m)\u001b[0m\u001b[1;33m\u001b[0m\u001b[0m\n",
        "\u001b[1;31mS3CreateError\u001b[0m: S3CreateError: 409 Conflict\n<?xml version=\"1.0\" encoding=\"UTF-8\"?>\n<Error><Code>BucketAlreadyOwnedByYou</Code><Message>Your previous request to create the named bucket succeeded and you already own it.</Message><BucketName>ioperformance.europe.bucket</BucketName><RequestId>29413A4D2D5E84E7</RequestId><HostId>NanMwhzACKkBPSpMNYWkxt5s8tXxl0txOBxSD+JmVRo/PlpYH7qwjPzDHfsstFZg1w3BNqo81ks=</HostId></Error>"
       ]
      }
     ],
     "prompt_number": 42
    },
    {
     "cell_type": "code",
     "collapsed": false,
     "input": [
      "rs = conn.get_all_buckets()\n",
      "rs"
     ],
     "language": "python",
     "metadata": {},
     "outputs": [
      {
       "metadata": {},
       "output_type": "pyout",
       "prompt_number": 44,
       "text": [
        "[<Bucket: WeatherSample>,\n",
        " <Bucket: ioperformance.bucket>,\n",
        " <Bucket: ioperformance.europe.bucket>,\n",
        " <Bucket: yoav.hadoop>,\n",
        " <Bucket: yoavs_second_bucket>]"
       ]
      }
     ],
     "prompt_number": 44
    },
    {
     "cell_type": "code",
     "collapsed": false,
     "input": [
      "bucket=conn.get_bucket('yoavs_second_bucket')\n",
      "print bucket\n",
      "print bucket.get_all_keys()"
     ],
     "language": "python",
     "metadata": {},
     "outputs": [
      {
       "output_type": "stream",
       "stream": "stdout",
       "text": [
        "<Bucket: yoavs_second_bucket>\n",
        "[<Key: yoavs_second_bucket,PMD1156_IHC_0068_part_0_0.tif>, <Key: yoavs_second_bucket,PMD1156_IHC_0068_part_0_2.tif>, <Key: yoavs_second_bucket,PMD1156_IHC_0068_part_0_4.tif>, <Key: yoavs_second_bucket,PMD1156_IHC_0068_part_0_6.tif>, <Key: yoavs_second_bucket,PMD1156_IHC_0068_part_0_8.tif>, <Key: yoavs_second_bucket,PMD1156_IHC_0068_part_2_0.tif>, <Key: yoavs_second_bucket,PMD1156_IHC_0068_part_2_2.tif>, <Key: yoavs_second_bucket,PMD1156_IHC_0068_part_2_4.tiff>, <Key: yoavs_second_bucket,PMD1156_IHC_0068_part_2_6.tif>, <Key: yoavs_second_bucket,PMD1156_IHC_0068_part_2_8.tif>, <Key: yoavs_second_bucket,PMD1156_IHC_0068_part_4_0.tif>, <Key: yoavs_second_bucket,PMD1156_IHC_0068_part_4_2.tif>, <Key: yoavs_second_bucket,PMD1156_IHC_0068_part_4_4.tif>, <Key: yoavs_second_bucket,PMD1156_IHC_0068_part_4_6.tif>, <Key: yoavs_second_bucket,PMD1156_IHC_0068_part_4_8.tif>, <Key: yoavs_second_bucket,PMD1156_IHC_0068_part_6_0.tif>, <Key: yoavs_second_bucket,PMD1156_IHC_0068_part_6_2.tif>, <Key: yoavs_second_bucket,PMD1156_IHC_0068_part_6_4.tif>, <Key: yoavs_second_bucket,PMD1156_IHC_0068_part_6_6.tif>, <Key: yoavs_second_bucket,PMD1156_IHC_0068_part_6_8.tif>, <Key: yoavs_second_bucket,PMD1156_IHC_0068_part_8_0.tif>, <Key: yoavs_second_bucket,PMD1156_IHC_0068_part_8_2.tif>, <Key: yoavs_second_bucket,PMD1156_IHC_0068_part_8_4.tif>, <Key: yoavs_second_bucket,PMD1156_IHC_0068_part_8_6.tif>, <Key: yoavs_second_bucket,PMD1156_IHC_0068_part_8_8.tif>, <Key: yoavs_second_bucket,Sample.tiff>]"
       ]
      },
      {
       "output_type": "stream",
       "stream": "stdout",
       "text": [
        "\n"
       ]
      }
     ],
     "prompt_number": 45
    },
    {
     "cell_type": "code",
     "collapsed": false,
     "input": [
      "%%timeit\n",
      "k=Key(bucket)\n",
      "k.key = 'PMD1156_IHC_0068_part_2_4.tiff'\n",
      "k.get_contents_to_filename('PMD1156_IHC_0068_part_2_4.tiff')"
     ],
     "language": "python",
     "metadata": {},
     "outputs": [
      {
       "output_type": "stream",
       "stream": "stdout",
       "text": [
        "1 loops, best of 3: 17.6 s per loop\n"
       ]
      }
     ],
     "prompt_number": 46
    },
    {
     "cell_type": "code",
     "collapsed": false,
     "input": [
      "!ls -l PMD1156_IHC_0068_part_2_4.tiff"
     ],
     "language": "python",
     "metadata": {},
     "outputs": [
      {
       "output_type": "stream",
       "stream": "stdout",
       "text": [
        "-rw-rw-r-- 1 ubuntu ubuntu 58833812 Jan 11 01:11 PMD1156_IHC_0068_part_2_4.tiff\r\n"
       ]
      }
     ],
     "prompt_number": 33
    },
    {
     "cell_type": "code",
     "collapsed": false,
     "input": [
      "17.6/58833812 "
     ],
     "language": "python",
     "metadata": {},
     "outputs": [
      {
       "metadata": {},
       "output_type": "pyout",
       "prompt_number": 47,
       "text": [
        "2.991477077840885e-07"
       ]
      }
     ],
     "prompt_number": 47
    },
    {
     "cell_type": "code",
     "collapsed": false,
     "input": [],
     "language": "python",
     "metadata": {},
     "outputs": []
    }
   ],
   "metadata": {}
  }
 ]
}